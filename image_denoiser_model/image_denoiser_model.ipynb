{
 "cells": [
  {
   "cell_type": "code",
   "execution_count": 0,
   "metadata": {
    "colab": {},
    "colab_type": "code",
    "id": "tv_nrzAkT5zW"
   },
   "outputs": [],
   "source": [
    "!wget https://developer.nvidia.com/compute/cuda/9.0/Prod/local_installers/cuda-repo-ubuntu1604-9-0-local_9.0.176-1_amd64-deb\n",
    "!dpkg -i cuda-repo-ubuntu1604-9-0-local_9.0.176-1_amd64-deb\n",
    "!apt-key add /var/cuda-repo-9-0-local/7fa2af80.pub\n",
    "!apt-get update\n",
    "!apt-get install cuda=9.0.176-1\n",
    "!nvcc --version"
   ]
  },
  {
   "cell_type": "code",
   "execution_count": 0,
   "metadata": {
    "colab": {},
    "colab_type": "code",
    "id": "F6A5A7LECfWg"
   },
   "outputs": [],
   "source": [
    "!pip install tensorflow-gpu==1.12.0\n",
    "import tensorflow as tf\n",
    "tf.test.gpu_device_name()"
   ]
  },
  {
   "cell_type": "code",
   "execution_count": 5,
   "metadata": {
    "colab": {
     "base_uri": "https://localhost:8080/",
     "height": 34
    },
    "colab_type": "code",
    "executionInfo": {
     "elapsed": 694,
     "status": "ok",
     "timestamp": 1561309929860,
     "user": {
      "displayName": "Michał Sroka",
      "photoUrl": "",
      "userId": "14287554079226416654"
     },
     "user_tz": -120
    },
    "id": "b5bV1a6ci2EJ",
    "outputId": "450670ed-308f-4cf8-ef7f-4b482d08ab37"
   },
   "outputs": [
    {
     "name": "stdout",
     "output_type": "stream",
     "text": [
      "Drive already mounted at /content/gdrive; to attempt to forcibly remount, call drive.mount(\"/content/gdrive\", force_remount=True).\n"
     ]
    }
   ],
   "source": [
    "from google.colab import drive\n",
    "drive.mount('/content/gdrive')"
   ]
  },
  {
   "cell_type": "markdown",
   "metadata": {
    "colab_type": "text",
    "id": "UwDRjkWYMEFI"
   },
   "source": [
    "### tar.gz file with clean, distorted and test_distorted directories should be available under the path in the Google Drive"
   ]
  },
  {
   "cell_type": "code",
   "execution_count": 0,
   "metadata": {
    "colab": {},
    "colab_type": "code",
    "id": "36PN4viSLXNA"
   },
   "outputs": [],
   "source": [
    "!tar -xvf 'gdrive/My Drive/UJ/AppliedDL/image_denoiser_project3/data.tar.gz'"
   ]
  },
  {
   "cell_type": "code",
   "execution_count": 7,
   "metadata": {
    "colab": {
     "base_uri": "https://localhost:8080/",
     "height": 153
    },
    "colab_type": "code",
    "executionInfo": {
     "elapsed": 8415,
     "status": "ok",
     "timestamp": 1561309949162,
     "user": {
      "displayName": "Michał Sroka",
      "photoUrl": "",
      "userId": "14287554079226416654"
     },
     "user_tz": -120
    },
    "id": "rM__dThyLUID",
    "outputId": "b8e322a2-9b2f-4c76-e7c0-ba904178fc07"
   },
   "outputs": [
    {
     "name": "stdout",
     "output_type": "stream",
     "text": [
      "clean\t\t\t\t\t\t    distorted\t test_distorted\n",
      "cuda-repo-ubuntu1604-9-0-local_9.0.176-1_amd64-deb  gdrive\t ujnn2019-3.zip\n",
      "data\t\t\t\t\t\t    sample_data\n",
      "mkdir: cannot create directory ‘data’: File exists\n",
      "mv: cannot move 'clean' to './data/clean': Directory not empty\n",
      "mv: cannot move 'distorted' to './data/distorted': Directory not empty\n",
      "mv: cannot move 'test_distorted' to './data/test_distorted': Directory not empty\n",
      "clean  distorted  test_distorted\n"
     ]
    }
   ],
   "source": [
    "!ls\n",
    "!mkdir data\n",
    "!mv clean ./data\n",
    "!mv distorted ./data\n",
    "!mv test_distorted ./data\n",
    "!ls data"
   ]
  },
  {
   "cell_type": "code",
   "execution_count": 8,
   "metadata": {
    "colab": {
     "base_uri": "https://localhost:8080/",
     "height": 51
    },
    "colab_type": "code",
    "executionInfo": {
     "elapsed": 2236,
     "status": "ok",
     "timestamp": 1561309952859,
     "user": {
      "displayName": "Michał Sroka",
      "photoUrl": "",
      "userId": "14287554079226416654"
     },
     "user_tz": -120
    },
    "id": "fNnSGzNns1Qw",
    "outputId": "85fd3dbd-952c-44d8-ba16-22e6f83fc075"
   },
   "outputs": [
    {
     "name": "stderr",
     "output_type": "stream",
     "text": [
      "Using TensorFlow backend.\n"
     ]
    },
    {
     "name": "stdout",
     "output_type": "stream",
     "text": [
      "clean  distorted  test_distorted\n"
     ]
    }
   ],
   "source": [
    "from keras.preprocessing.image import load_img, array_to_img, img_to_array, ImageDataGenerator\n",
    "import numpy as np\n",
    "import os\n",
    "import warnings\n",
    "def ignore_warn(*args, **kwargs):\n",
    "    pass\n",
    "  \n",
    "!ls data"
   ]
  },
  {
   "cell_type": "code",
   "execution_count": 0,
   "metadata": {
    "colab": {},
    "colab_type": "code",
    "id": "y8raAjxKkJOF"
   },
   "outputs": [],
   "source": [
    "root_path = './data'\n",
    "\n",
    "train_path = root_path + '/distorted'\n",
    "train_cleaned_path = root_path + '/clean'\n",
    "test_path = root_path + '/test_distorted'\n",
    "\n",
    "train_images = sorted(os.listdir(train_path))\n",
    "train_labels = sorted(os.listdir(train_cleaned_path))\n",
    "test_images = sorted(os.listdir(test_path))"
   ]
  },
  {
   "cell_type": "code",
   "execution_count": 10,
   "metadata": {
    "colab": {
     "base_uri": "https://localhost:8080/",
     "height": 272
    },
    "colab_type": "code",
    "executionInfo": {
     "elapsed": 17669,
     "status": "ok",
     "timestamp": 1561309977849,
     "user": {
      "displayName": "Michał Sroka",
      "photoUrl": "",
      "userId": "14287554079226416654"
     },
     "user_tz": -120
    },
    "id": "Z_PgMDUKrVOv",
    "outputId": "415957d8-ad04-407e-bd48-f9100714cc8c"
   },
   "outputs": [
    {
     "name": "stdout",
     "output_type": "stream",
     "text": [
      "Load train images...\n",
      "0\n",
      "2000\n",
      "4000\n",
      "6000\n",
      "8000\n",
      "Load label images...\n",
      "0\n",
      "2000\n",
      "4000\n",
      "6000\n",
      "8000\n",
      "Load test images...\n",
      "0\n"
     ]
    },
    {
     "data": {
      "text/plain": [
       "((10000, 48, 48, 3), (10000, 48, 48, 3), (400, 48, 48, 3))"
      ]
     },
     "execution_count": 10,
     "metadata": {
      "tags": []
     },
     "output_type": "execute_result"
    }
   ],
   "source": [
    "X = []\n",
    "Y = []\n",
    "X_test=[]\n",
    "print(\"Load train images...\")\n",
    "for i, img in enumerate(train_images):\n",
    "    img = load_img(train_path + '/' + img,target_size=(48,48,3))\n",
    "    img = img_to_array(img).astype('float32')/255.\n",
    "    X.append(img)\n",
    "    if i % 2000 == 0:\n",
    "      print(i)\n",
    "\n",
    "print(\"Load label images...\")\n",
    "for i, img in enumerate(train_labels):\n",
    "    img = load_img(train_cleaned_path + '/' + img,target_size=(48,48,3))\n",
    "    img = img_to_array(img).astype('float32')/255.\n",
    "    Y.append(img)\n",
    "    if i % 2000 == 0:\n",
    "      print(i)\n",
    "\n",
    "print(\"Load test images...\")\n",
    "for i, img in enumerate(test_images):\n",
    "    img = load_img(test_path + '/' + img,target_size=(48,48,3))\n",
    "    img = img_to_array(img).astype('float32')/255.\n",
    "    X_test.append(img)\n",
    "    if i % 2000 == 0:\n",
    "      print(i)\n",
    "\n",
    "X_test = np.array(X_test)\n",
    "X = np.array(X)\n",
    "Y = np.array(Y)\n",
    "\n",
    "X.shape,Y.shape, X_test.shape"
   ]
  },
  {
   "cell_type": "code",
   "execution_count": 0,
   "metadata": {
    "colab": {},
    "colab_type": "code",
    "id": "VydI4R8FvvyY"
   },
   "outputs": [],
   "source": [
    "data_gen_args = dict(\n",
    "    width_shift_range=0.2,\n",
    "    height_shift_range=0.2,\n",
    "    shear_range=0.2,\n",
    "    zoom_range=0.3,\n",
    "    horizontal_flip=True,\n",
    "    fill_mode='nearest'\n",
    ")\n",
    "\n",
    "image_datagen = ImageDataGenerator(**data_gen_args)\n",
    "image_clean_datagen = ImageDataGenerator(**data_gen_args)"
   ]
  },
  {
   "cell_type": "code",
   "execution_count": 0,
   "metadata": {
    "colab": {},
    "colab_type": "code",
    "id": "IJJBQOvSmLzH"
   },
   "outputs": [],
   "source": [
    "seed = 12\n",
    "BATCH_SIZE=64\n",
    "\n",
    "image_datagen.fit(X, augment=True, seed=seed)\n",
    "image_clean_datagen.fit(Y, augment=True, seed=seed)\n",
    "\n",
    "image_generator = image_datagen.flow(X, batch_size=BATCH_SIZE, seed=seed)\n",
    "image_clean_generator = image_clean_datagen.flow(Y, batch_size=BATCH_SIZE, seed=seed)"
   ]
  },
  {
   "cell_type": "code",
   "execution_count": 0,
   "metadata": {
    "colab": {},
    "colab_type": "code",
    "id": "tq2mrv3hmkfp"
   },
   "outputs": [],
   "source": [
    "# !mkdir preview\n",
    "# !mkdir preview/training\n",
    "# !mkdir preview/labels\n",
    "\n",
    "# seed = 1\n",
    "# img = X[0]\n",
    "# img = img.reshape((1,) + img.shape)\n",
    "# img2 = Y[0]\n",
    "# img2 = img2.reshape((1,) + img2.shape)\n",
    "# image_datagen.fit(X, augment=True, seed=seed)\n",
    "# image_clean_datagen.fit(Y, augment=True, seed=seed)\n",
    "# i = 0\n",
    "# for batch in image_datagen.flow(img, batch_size=1,\n",
    "#                           save_to_dir='preview/training', save_prefix='train', save_format='jpeg', seed=1):\n",
    "#     i += 1\n",
    "#     if i > 5:\n",
    "#         break  # otherwise the generator would loop indefinitely   \n",
    "        \n",
    "# i = 0\n",
    "# for batch in image_clean_datagen.flow(img2, batch_size=1,\n",
    "#                           save_to_dir='preview/labels', save_prefix='label', save_format='jpeg', seed=1):\n",
    "#     i += 1\n",
    "#     if i > 5:\n",
    "#         break  # otherwise the generator would loop indefinitely"
   ]
  },
  {
   "cell_type": "code",
   "execution_count": 0,
   "metadata": {
    "colab": {},
    "colab_type": "code",
    "id": "1cvJwjIA61BP"
   },
   "outputs": [],
   "source": [
    "!ls"
   ]
  },
  {
   "cell_type": "code",
   "execution_count": 0,
   "metadata": {
    "colab": {},
    "colab_type": "code",
    "id": "m0ma4T13318I"
   },
   "outputs": [],
   "source": [
    "!rm -r preview"
   ]
  },
  {
   "cell_type": "code",
   "execution_count": 0,
   "metadata": {
    "colab": {},
    "colab_type": "code",
    "id": "ab5OreS51cVV"
   },
   "outputs": [],
   "source": [
    "!cp -r preview 'gdrive/My Drive/UJ/AppliedDL/image_denoiser_project3/'"
   ]
  },
  {
   "cell_type": "code",
   "execution_count": 0,
   "metadata": {
    "colab": {},
    "colab_type": "code",
    "id": "xa_cFLss9XPM"
   },
   "outputs": [],
   "source": [
    "import tensorflow as tf\n",
    "from tensorflow.keras.layers import Conv2D, Input, MaxPooling2D, UpSampling2D, Conv2DTranspose, BatchNormalization\n",
    "from tensorflow.keras import Model\n",
    "# Model\n",
    "def make_convolutional_autoencoder():\n",
    "    # encoding\n",
    "    inputs = Input(shape=(48, 48, 3))\n",
    "    x = Conv2D(16, 3, activation='relu', padding='same')(inputs)\n",
    "    x = BatchNormalization()(x)\n",
    "    \n",
    "    x = Conv2D(32, 3, activation='relu', padding='same')(x)\n",
    "    x = BatchNormalization()(x)\n",
    "    \n",
    "    x = Conv2D(64, 3, activation='relu', padding='same')(x)\n",
    "    x = BatchNormalization()(x)\n",
    "    \n",
    "    x = Conv2D(64, 3, activation='relu', padding='same')(x)\n",
    "    x = BatchNormalization()(x)\n",
    "    x = MaxPooling2D(padding='same')(x)\n",
    "    \n",
    "    x = Conv2D(128, 3, activation='relu', padding='same')(x)\n",
    "    x = BatchNormalization()(x)\n",
    "\n",
    "    x = Conv2D(128, 3, activation='relu', padding='same')(x)\n",
    "    x = BatchNormalization()(x)\n",
    "    x = MaxPooling2D(padding='same')(x)\n",
    "    \n",
    "    x = Conv2D(256, 3, activation='relu', padding='same')(x)\n",
    "    encoded = BatchNormalization()(x)\n",
    "    \n",
    "    \n",
    "    # decoding\n",
    "    x = Conv2DTranspose(256, 3, strides=(1, 1), activation='relu', padding='same')(encoded)\n",
    "    x = BatchNormalization()(x)\n",
    "    x = Conv2DTranspose(128, 3, strides=(1, 1), activation='relu', padding='same')(x)\n",
    "    x = BatchNormalization()(x)\n",
    "    x = Conv2DTranspose(128, 3, strides=(1, 1), activation='relu', padding='same')(x)\n",
    "    x = BatchNormalization()(x)\n",
    "    x = Conv2DTranspose(64, 3, strides=(1, 1), activation='relu', padding='same')(x)\n",
    "    x = BatchNormalization()(x)\n",
    "    x = Conv2DTranspose(64, 3, strides=(2, 2), activation='relu', padding='same')(x)\n",
    "    x = BatchNormalization()(x)\n",
    "    x = Conv2DTranspose(32, 3, strides=(1, 1), activation='relu', padding='same')(x)\n",
    "    x = BatchNormalization()(x)\n",
    "    x = Conv2DTranspose(16, 3, strides=(2, 2), activation='relu', padding='same')(x)\n",
    "    x = BatchNormalization()(x)\n",
    "    decoded = Conv2DTranspose(3, 3, activation='sigmoid', padding='same')(x)\n",
    "    \n",
    "    # autoencoder\n",
    "    autoencoder = Model(inputs, decoded)\n",
    "    autoencoder.compile(optimizer='adam', \n",
    "                        loss='mean_squared_error')\n",
    "    return autoencoder\n",
    "  \n",
    "# create a convolutional autoencoder\n",
    "autoencoder = make_convolutional_autoencoder()"
   ]
  },
  {
   "cell_type": "code",
   "execution_count": 0,
   "metadata": {
    "colab": {
     "base_uri": "https://localhost:8080/",
     "height": 255
    },
    "colab_type": "code",
    "id": "HgN3pWGSmaXF",
    "outputId": "5dce64a0-e17c-4110-fa36-7eff3e832c9b"
   },
   "outputs": [
    {
     "name": "stdout",
     "output_type": "stream",
     "text": [
      "Epoch 1/20\n",
      "2000/2000 [==============================] - 195s 97ms/step - loss: 0.2767\n",
      "Epoch 2/20\n",
      "2000/2000 [==============================] - 191s 95ms/step - loss: 0.1633\n",
      "Epoch 3/20\n",
      "2000/2000 [==============================] - 190s 95ms/step - loss: 0.1495\n",
      "Epoch 4/20\n",
      "2000/2000 [==============================] - 191s 96ms/step - loss: 0.1420\n",
      "Epoch 5/20\n",
      "2000/2000 [==============================] - 192s 96ms/step - loss: 0.1373\n",
      "Epoch 6/20\n",
      "2000/2000 [==============================] - 191s 96ms/step - loss: 0.1339\n",
      "Epoch 7/20\n",
      "1610/2000 [=======================>......] - ETA: 37s - loss: 0.1314"
     ]
    }
   ],
   "source": [
    "train_generator = zip(image_generator, image_clean_generator)\n",
    "\n",
    "autoencoder.fit_generator(\n",
    "    train_generator,\n",
    "    steps_per_epoch=2000,\n",
    "    epochs=20)"
   ]
  },
  {
   "cell_type": "code",
   "execution_count": 0,
   "metadata": {
    "colab": {},
    "colab_type": "code",
    "id": "L-XI9oiGbDU6"
   },
   "outputs": [],
   "source": [
    "!rm -r result"
   ]
  },
  {
   "cell_type": "code",
   "execution_count": 60,
   "metadata": {
    "colab": {
     "base_uri": "https://localhost:8080/",
     "height": 68
    },
    "colab_type": "code",
    "executionInfo": {
     "elapsed": 5092,
     "status": "ok",
     "timestamp": 1561314833172,
     "user": {
      "displayName": "Michał Sroka",
      "photoUrl": "",
      "userId": "14287554079226416654"
     },
     "user_tz": -120
    },
    "id": "u-CkGa_JL6aA",
    "outputId": "416d15a1-4899-40d7-ade4-52000c8729f7"
   },
   "outputs": [
    {
     "name": "stdout",
     "output_type": "stream",
     "text": [
      "mkdir: cannot create directory ‘result’: File exists\n",
      "mkdir: cannot create directory ‘result/base’: File exists\n",
      "mkdir: cannot create directory ‘result/example’: File exists\n"
     ]
    }
   ],
   "source": [
    "!mkdir result\n",
    "!mkdir result/base\n",
    "!mkdir result/example\n",
    "\n",
    "base = X[16]\n",
    "base = base.reshape((1,) + base.shape)\n",
    "example = autoencoder.predict(base)\n",
    "\n",
    "base_image_generator = ImageDataGenerator()\n",
    "base_image_generator.fit(base)\n",
    "\n",
    "example_image_generator = ImageDataGenerator()\n",
    "example_image_generator.fit(example)\n",
    "\n",
    "i = 0\n",
    "for batch in image_datagen.flow(base, batch_size=1,\n",
    "                          save_to_dir='result/base', save_prefix='base', save_format='jpeg', seed=1):\n",
    "    i += 1\n",
    "    if i > 0:\n",
    "        break  # otherwise the generator would loop indefinitely\n",
    "\n",
    "i = 0     \n",
    "for batch in image_datagen.flow(example, batch_size=1,\n",
    "                          save_to_dir='result/example', save_prefix='example', save_format='jpeg', seed=1):\n",
    "    i += 1\n",
    "    if i > 0:\n",
    "        break  # otherwise the generator would loop indefinitely\n"
   ]
  },
  {
   "cell_type": "code",
   "execution_count": 61,
   "metadata": {
    "colab": {
     "base_uri": "https://localhost:8080/",
     "height": 34
    },
    "colab_type": "code",
    "executionInfo": {
     "elapsed": 3030,
     "status": "ok",
     "timestamp": 1561314837384,
     "user": {
      "displayName": "Michał Sroka",
      "photoUrl": "",
      "userId": "14287554079226416654"
     },
     "user_tz": -120
    },
    "id": "W40jBNtzZrGI",
    "outputId": "2884ada7-ff83-45c1-8fff-69715d4bc19f"
   },
   "outputs": [
    {
     "name": "stdout",
     "output_type": "stream",
     "text": [
      "example_0_3462.jpeg\n"
     ]
    }
   ],
   "source": [
    "!ls result/example\n",
    "!cp -r result 'gdrive/My Drive/UJ/AppliedDL/image_denoiser_project3/'"
   ]
  },
  {
   "cell_type": "code",
   "execution_count": 0,
   "metadata": {
    "colab": {},
    "colab_type": "code",
    "id": "RepylUR8nk_Y"
   },
   "outputs": [],
   "source": [
    "tf.keras.models.save_model(\n",
    "    model=autoencoder,\n",
    "    filepath='gdrive/My Drive/UJ/AppliedDL/image_denoiser_project3/model_2000.h5'\n",
    ")"
   ]
  },
  {
   "cell_type": "code",
   "execution_count": 0,
   "metadata": {
    "colab": {},
    "colab_type": "code",
    "id": "UUgKcBOTsWdP"
   },
   "outputs": [],
   "source": [
    "model = tf.keras.models.load_model('gdrive/My Drive/UJ/AppliedDL/image_denoiser_project3/model_2000.h5')\n"
   ]
  },
  {
   "cell_type": "code",
   "execution_count": 80,
   "metadata": {
    "colab": {
     "base_uri": "https://localhost:8080/",
     "height": 68
    },
    "colab_type": "code",
    "executionInfo": {
     "elapsed": 4986,
     "status": "ok",
     "timestamp": 1561316425792,
     "user": {
      "displayName": "Michał Sroka",
      "photoUrl": "",
      "userId": "14287554079226416654"
     },
     "user_tz": -120
    },
    "id": "AK5RCByEs6DJ",
    "outputId": "abd76c3d-2e4d-4739-cc74-4eadbbfcc7b6"
   },
   "outputs": [
    {
     "name": "stdout",
     "output_type": "stream",
     "text": [
      "mkdir: cannot create directory ‘result’: File exists\n",
      "mkdir: cannot create directory ‘result/base’: File exists\n",
      "mkdir: cannot create directory ‘result/example’: File exists\n"
     ]
    }
   ],
   "source": [
    "!mkdir result\n",
    "!mkdir result/base\n",
    "!mkdir result/example\n",
    "\n",
    "base = X[11]\n",
    "base = base.reshape((1,) + base.shape)\n",
    "example = model.predict(base)\n",
    "\n",
    "base_image_generator = ImageDataGenerator()\n",
    "base_image_generator.fit(base)\n",
    "\n",
    "example_image_generator = ImageDataGenerator()\n",
    "example_image_generator.fit(example)\n",
    "\n",
    "i = 0\n",
    "for batch in image_datagen.flow(base, batch_size=1,\n",
    "                          save_to_dir='result/base', save_prefix='base', save_format='jpeg', seed=1):\n",
    "    i += 1\n",
    "    if i > 0:\n",
    "        break  # otherwise the generator would loop indefinitely\n",
    "\n",
    "i = 0     \n",
    "for batch in image_datagen.flow(example, batch_size=1,\n",
    "                          save_to_dir='result/example', save_prefix='example', save_format='jpeg', seed=1):\n",
    "    i += 1\n",
    "    if i > 0:\n",
    "        break  # otherwise the generator would loop indefinitely"
   ]
  },
  {
   "cell_type": "code",
   "execution_count": 81,
   "metadata": {
    "colab": {
     "base_uri": "https://localhost:8080/",
     "height": 34
    },
    "colab_type": "code",
    "executionInfo": {
     "elapsed": 3475,
     "status": "ok",
     "timestamp": 1561316486669,
     "user": {
      "displayName": "Michał Sroka",
      "photoUrl": "",
      "userId": "14287554079226416654"
     },
     "user_tz": -120
    },
    "id": "GbO6aOhNttqd",
    "outputId": "a047f2aa-a0ab-4076-d0d6-a98681117d3f"
   },
   "outputs": [
    {
     "name": "stdout",
     "output_type": "stream",
     "text": [
      "example_0_3462.jpeg\n"
     ]
    }
   ],
   "source": [
    "!ls result/example\n",
    "!cp -r result 'gdrive/My Drive/UJ/AppliedDL/image_denoiser_project3/'"
   ]
  },
  {
   "cell_type": "code",
   "execution_count": 88,
   "metadata": {
    "colab": {
     "base_uri": "https://localhost:8080/",
     "height": 34
    },
    "colab_type": "code",
    "executionInfo": {
     "elapsed": 716,
     "status": "ok",
     "timestamp": 1561316725174,
     "user": {
      "displayName": "Michał Sroka",
      "photoUrl": "",
      "userId": "14287554079226416654"
     },
     "user_tz": -120
    },
    "id": "tblJi8M-un4f",
    "outputId": "44e70068-d1ea-4b7c-c46c-c856fe4d91b2"
   },
   "outputs": [
    {
     "data": {
      "text/plain": [
       "(10000, 48, 48, 3)"
      ]
     },
     "execution_count": 88,
     "metadata": {
      "tags": []
     },
     "output_type": "execute_result"
    }
   ],
   "source": [
    "X.shape"
   ]
  }
 ],
 "metadata": {
  "accelerator": "GPU",
  "colab": {
   "name": "image_denoiser_model.ipynb",
   "provenance": [],
   "version": "0.3.2"
  },
  "kernelspec": {
   "display_name": "Python 3",
   "language": "python",
   "name": "python3"
  },
  "language_info": {
   "codemirror_mode": {
    "name": "ipython",
    "version": 3
   },
   "file_extension": ".py",
   "mimetype": "text/x-python",
   "name": "python",
   "nbconvert_exporter": "python",
   "pygments_lexer": "ipython3",
   "version": "3.6.8"
  }
 },
 "nbformat": 4,
 "nbformat_minor": 1
}
